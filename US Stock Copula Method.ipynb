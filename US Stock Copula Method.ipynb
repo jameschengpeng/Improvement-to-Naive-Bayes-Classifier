{
 "cells": [
  {
   "cell_type": "code",
   "execution_count": 2,
   "metadata": {},
   "outputs": [],
   "source": [
    "import numpy as np\n",
    "import pandas as pd\n",
    "import GaussianCopula as gc\n",
    "import os\n",
    "from sklearn.model_selection import train_test_split\n",
    "from sklearn.utils import shuffle\n",
    "import copy\n",
    "import utils\n",
    "import matplotlib.pyplot as plt\n",
    "import seaborn as sns\n",
    "import pickle"
   ]
  },
  {
   "cell_type": "code",
   "execution_count": 3,
   "metadata": {},
   "outputs": [],
   "source": [
    "year = 2014\n",
    "filename = \"cleaned_\" + str(year) + \"_Financial_Data.csv\"\n",
    "random_state = 24\n",
    "df = pd.read_csv(\"Datasets/US_stock/\"+filename)\n",
    "df.rename(columns={'Unnamed: 0': 'Company'}, inplace = True)\n",
    "shuffled_df = shuffle(df)"
   ]
  },
  {
   "cell_type": "code",
   "execution_count": 4,
   "metadata": {},
   "outputs": [],
   "source": [
    "shuffled_df = shuffled_df.drop(['Company', str(year+1)+' PRICE VAR [%]', 'operatingCycle', 'cashConversionCycle'], axis = 1)\n",
    "# drop the constant columns if exist \n",
    "for col in shuffled_df.columns:\n",
    "    if len(shuffled_df[col].unique()) == 1:\n",
    "        shuffled_df.drop(col,inplace=True,axis=1)"
   ]
  },
  {
   "cell_type": "code",
   "execution_count": 5,
   "metadata": {},
   "outputs": [],
   "source": [
    "real_colnames = list(shuffled_df.columns.values)\n",
    "colnames = [('X'+str(i)) for i in range(shuffled_df.shape[1]-1)]\n",
    "colnames.append('Y')\n",
    "colname_checker = {colnames[i]:real_colnames[i] for i in range(len(colnames))}\n",
    "shuffled_df.columns = colnames"
   ]
  },
  {
   "cell_type": "code",
   "execution_count": 6,
   "metadata": {},
   "outputs": [],
   "source": [
    "encoded_df = utils.encode_df(shuffled_df, [218])\n",
    "encoded_df = encoded_df.astype({'X218': 'int32'})\n",
    "cont_col = [i for i in range(218)]\n",
    "unrankable = [218]"
   ]
  },
  {
   "cell_type": "code",
   "execution_count": 7,
   "metadata": {},
   "outputs": [],
   "source": [
    "# replace the extreme values, too small? replace by 5% quantile value; too large? replace by 95% quantile value\n",
    "inf = encoded_df[colnames[:-2]].quantile(0.05, axis = 0)\n",
    "sup = encoded_df[colnames[:-2]].quantile(0.95, axis = 0)\n",
    "for i in range(encoded_df.shape[1]-2):\n",
    "    col = 'X'+str(i)\n",
    "    encoded_df[col] = np.where((encoded_df[col] < inf[i]), inf[i], encoded_df[col])\n",
    "    encoded_df[col] = np.where((encoded_df[col] > sup[i]), sup[i], encoded_df[col])"
   ]
  },
  {
   "cell_type": "code",
   "execution_count": 8,
   "metadata": {},
   "outputs": [],
   "source": [
    "feature_val = {218: 11}\n",
    "X = encoded_df[colnames[:-1]].to_numpy()\n",
    "Y = encoded_df[colnames[-1]].to_numpy()\n",
    "x_train, x_test, y_train, y_test = train_test_split(X, Y, test_size=0.2, random_state=random_state)"
   ]
  },
  {
   "cell_type": "code",
   "execution_count": 8,
   "metadata": {},
   "outputs": [
    {
     "name": "stdout",
     "output_type": "stream",
     "text": [
      "Got discrete posterior\n",
      "Finished clustering\n",
      "Optimized bandwidth\n"
     ]
    }
   ],
   "source": [
    "clf = gc.CopulaClassifier(cont_col, unrankable, feature_val, 0.9, 'gaussian',use_default_bandwidth=False,use_custom_bandwidth=True)\n",
    "\n",
    "with open(\"2014_opt_bandwidth.pickle\", \"rb\") as file:\n",
    "    custom_bandwidth = pickle.load(file)\n",
    "clf.fit(x_train,y_train,custom_bandwidth)"
   ]
  },
  {
   "cell_type": "code",
   "execution_count": 9,
   "metadata": {},
   "outputs": [
    {
     "name": "stderr",
     "output_type": "stream",
     "text": [
      "/Users/pengcheng/Desktop/FYP/Improvement-to-Naive-Bayes-Classifier/utils.py:160: RuntimeWarning: divide by zero encountered in double_scalars\n",
      "  a = 1/np.sqrt(abs(np.linalg.det(R)))\n",
      "/Users/pengcheng/Desktop/FYP/Improvement-to-Naive-Bayes-Classifier/utils.py:167: RuntimeWarning: invalid value encountered in matmul\n",
      "  b = np.matmul(vec, mid_mat)\n",
      "/Users/pengcheng/Desktop/FYP/Improvement-to-Naive-Bayes-Classifier/utils.py:168: RuntimeWarning: invalid value encountered in matmul\n",
      "  c = np.matmul(b, vec.T)\n",
      "/Users/pengcheng/Desktop/FYP/Improvement-to-Naive-Bayes-Classifier/GaussianCopula.py:128: RuntimeWarning: divide by zero encountered in log\n",
      "  density = sum(marginal_density) + np.log(utils.copula_func(marginal_cdf, R))\n",
      "/Users/pengcheng/Desktop/FYP/Improvement-to-Naive-Bayes-Classifier/GaussianCopula.py:82: RuntimeWarning: invalid value encountered in double_scalars\n",
      "  prob_distribution[c] += density\n",
      "/Users/pengcheng/Desktop/FYP/Improvement-to-Naive-Bayes-Classifier/utils.py:169: RuntimeWarning: invalid value encountered in double_scalars\n",
      "  return a * np.exp(-0.5 * c)\n"
     ]
    }
   ],
   "source": [
    "prediction = clf.predict(x_test)"
   ]
  },
  {
   "cell_type": "code",
   "execution_count": 10,
   "metadata": {},
   "outputs": [
    {
     "data": {
      "text/plain": [
       "0.5590551181102362"
      ]
     },
     "execution_count": 10,
     "metadata": {},
     "output_type": "execute_result"
    }
   ],
   "source": [
    "utils.get_accuracy(prediction, y_test)"
   ]
  },
  {
   "cell_type": "code",
   "execution_count": 11,
   "metadata": {},
   "outputs": [
    {
     "data": {
      "text/plain": [
       "0.6194225721784777"
      ]
     },
     "execution_count": 11,
     "metadata": {},
     "output_type": "execute_result"
    }
   ],
   "source": [
    "# Gaussian Naive Bayes\n",
    "from sklearn.naive_bayes import GaussianNB\n",
    "clf2 = GaussianNB()\n",
    "clf2.fit(x_train,y_train)\n",
    "nb_predict = clf2.predict(x_test)\n",
    "utils.get_accuracy(nb_predict,y_test)"
   ]
  },
  {
   "cell_type": "code",
   "execution_count": 15,
   "metadata": {},
   "outputs": [
    {
     "data": {
      "text/plain": [
       "array([[ 1.        ,  0.        ,  0.        ,  0.        ,  0.        ],\n",
       "       [-0.12044926,  0.99271948,  0.        ,  0.        ,  0.        ],\n",
       "       [ 0.88542941,  0.02185214,  0.46425989,  0.        ,  0.        ],\n",
       "       [ 0.89894697,  0.0142796 , -0.23426577,  0.36987833,  0.        ],\n",
       "       [ 0.21552667,  0.04548236,  0.05525435,  0.17067112,  0.95880026]])"
      ]
     },
     "execution_count": 15,
     "metadata": {},
     "output_type": "execute_result"
    }
   ],
   "source": [
    "np.linalg.cholesky(np.corrcoef(X[:,:5].T))"
   ]
  },
  {
   "cell_type": "code",
   "execution_count": 17,
   "metadata": {},
   "outputs": [
    {
     "data": {
      "text/plain": [
       "[[4],\n",
       " [8],\n",
       " [11],\n",
       " [12],\n",
       " [14],\n",
       " [20],\n",
       " [25],\n",
       " [38],\n",
       " [40],\n",
       " [48],\n",
       " [49],\n",
       " [50],\n",
       " [53],\n",
       " [54],\n",
       " [56],\n",
       " [61],\n",
       " [64],\n",
       " [65],\n",
       " [66],\n",
       " [67],\n",
       " [68],\n",
       " [70],\n",
       " [71],\n",
       " [72],\n",
       " [74],\n",
       " [81],\n",
       " [82],\n",
       " [84],\n",
       " [85],\n",
       " [86],\n",
       " [102],\n",
       " [103],\n",
       " [106],\n",
       " [116],\n",
       " [122],\n",
       " [124],\n",
       " [127],\n",
       " [133],\n",
       " [134],\n",
       " [145],\n",
       " [146],\n",
       " [147],\n",
       " [148],\n",
       " [149],\n",
       " [150],\n",
       " [153],\n",
       " [156],\n",
       " [157],\n",
       " [159],\n",
       " [160],\n",
       " [161],\n",
       " [162],\n",
       " [163],\n",
       " [164],\n",
       " [165],\n",
       " [166],\n",
       " [169],\n",
       " [170],\n",
       " [172],\n",
       " [180],\n",
       " [191],\n",
       " [192],\n",
       " [193],\n",
       " [194],\n",
       " [195],\n",
       " [196],\n",
       " [197],\n",
       " [198],\n",
       " [199],\n",
       " [200],\n",
       " [201],\n",
       " [202],\n",
       " [203],\n",
       " [204],\n",
       " [205],\n",
       " [206],\n",
       " [207],\n",
       " [208],\n",
       " [209],\n",
       " [210],\n",
       " [211],\n",
       " [212],\n",
       " [213],\n",
       " [214],\n",
       " [215],\n",
       " [216],\n",
       " [217],\n",
       " [218],\n",
       " [88, 98],\n",
       " [94, 168],\n",
       " [101, 182],\n",
       " [100, 181],\n",
       " [110, 152],\n",
       " [115, 123],\n",
       " [111, 151],\n",
       " [108, 177],\n",
       " [107, 179],\n",
       " [109, 178],\n",
       " [95, 183],\n",
       " [120, 158],\n",
       " [76, 144],\n",
       " [75, 143],\n",
       " [16, 17],\n",
       " [80, 141],\n",
       " [114, 155],\n",
       " [79, 142],\n",
       " [118, 131],\n",
       " [78, 139],\n",
       " [29, 30, 23],\n",
       " [93, 89, 97],\n",
       " [140, 77],\n",
       " [19, 18],\n",
       " [112, 113],\n",
       " [125, 126],\n",
       " [90, 21],\n",
       " [35, 176],\n",
       " [83, 91, 92, 87, 99, 121, 22, 24],\n",
       " [128, 135, 119, 132, 136, 184, 129, 117, 130],\n",
       " [185, 1],\n",
       " [39, 33, 59, 51, 41, 46, 57, 58, 36, 45, 44, 96, 167, 154, 104, 105, 32],\n",
       " [69,\n",
       "  43,\n",
       "  175,\n",
       "  34,\n",
       "  174,\n",
       "  37,\n",
       "  63,\n",
       "  73,\n",
       "  138,\n",
       "  60,\n",
       "  2,\n",
       "  0,\n",
       "  5,\n",
       "  10,\n",
       "  7,\n",
       "  9,\n",
       "  26,\n",
       "  27,\n",
       "  28,\n",
       "  13,\n",
       "  15,\n",
       "  3,\n",
       "  6,\n",
       "  62,\n",
       "  47,\n",
       "  171,\n",
       "  173,\n",
       "  55,\n",
       "  42,\n",
       "  52,\n",
       "  137,\n",
       "  31],\n",
       " [187, 189, 190, 188, 186]]"
      ]
     },
     "execution_count": 17,
     "metadata": {},
     "output_type": "execute_result"
    }
   ],
   "source": [
    "cluster = utils.cluster_agnes(1-abs(np.corrcoef(X.T)), max_distance = 0.2)\n",
    "cluster"
   ]
  }
 ],
 "metadata": {
  "kernelspec": {
   "display_name": "Python 3.7.4 64-bit ('anaconda3': conda)",
   "language": "python",
   "name": "python37464bitanaconda3conda0e45134502714cc5a53ed61e6b150427"
  },
  "language_info": {
   "codemirror_mode": {
    "name": "ipython",
    "version": 3
   },
   "file_extension": ".py",
   "mimetype": "text/x-python",
   "name": "python",
   "nbconvert_exporter": "python",
   "pygments_lexer": "ipython3",
   "version": "3.7.4"
  }
 },
 "nbformat": 4,
 "nbformat_minor": 2
}
