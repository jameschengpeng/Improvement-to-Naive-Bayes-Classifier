{
 "cells": [
  {
   "cell_type": "code",
   "execution_count": 1,
   "metadata": {},
   "outputs": [],
   "source": [
    "import numpy as np\n",
    "import pandas as pd\n",
    "import comonotonic as cm\n",
    "import naiveBayes as nb\n",
    "import os\n",
    "from sklearn.model_selection import train_test_split\n",
    "import copy\n",
    "import utils\n",
    "import matplotlib.pyplot as plt\n",
    "import seaborn as sns"
   ]
  },
  {
   "cell_type": "code",
   "execution_count": 2,
   "metadata": {},
   "outputs": [],
   "source": [
    "# Note that we assume the last column is the label\n",
    "# If the first column is ID's, remove it\n",
    "filename = \"adult.csv\"\n",
    "random_state = 24\n",
    "df = pd.read_csv(\"Datasets/\"+filename)\n",
    "# education and education.num is actually the same, so drop \"education\"\n",
    "colnames = [('X'+str(i)) for i in range(df.shape[1]-1)]\n",
    "colnames.append('Y')\n",
    "df.columns = colnames"
   ]
  },
  {
   "cell_type": "code",
   "execution_count": 3,
   "metadata": {},
   "outputs": [],
   "source": [
    "colname_dict = {'X0':\"age\", 'X1': 'workclass', 'X2': 'fnlwgt', 'X3': 'education', 'X4': 'education.num', 'X5': 'marital.status',\n",
    "                'X6': 'occupation', 'X7': 'relationship', 'X8': 'race', 'X9': 'sex', 'X10': 'capital.gain', 'X11': 'capital.loss', \n",
    "                'X12': 'hours.per.week', 'X13': 'native.country', 'Y': 'income'}"
   ]
  },
  {
   "cell_type": "code",
   "execution_count": 4,
   "metadata": {},
   "outputs": [],
   "source": [
    "#data cleaning for adult.csv\n",
    "df = df[df.X1 != '?']\n",
    "df = df[df.X6 != '?']\n",
    "# unrankable features\n",
    "encoded_df = utils.encode_df(df, [1,5,6,7,8,9,13])\n",
    "\n",
    "\n",
    "encoded_df.loc[(encoded_df.Y == \"<=50K\"),'Y'] = 0\n",
    "encoded_df.loc[(encoded_df.Y == \">50K\"),'Y'] = 1\n",
    "\n",
    "encoded_df.loc[(encoded_df.X4 <= 9),'X3'] = 0\n",
    "encoded_df.loc[(encoded_df.X4 == 10),'X3'] = 1\n",
    "encoded_df.loc[(encoded_df.X4 == 11),'X3'] = 2\n",
    "encoded_df.loc[(encoded_df.X4 == 12),'X3'] = 2\n",
    "encoded_df.loc[(encoded_df.X4 >= 13),'X3'] = 3\n",
    "\n",
    "encoded_df = encoded_df.astype('int32')"
   ]
  },
  {
   "cell_type": "code",
   "execution_count": 7,
   "metadata": {},
   "outputs": [
    {
     "data": {
      "text/plain": [
       "<matplotlib.axes._subplots.AxesSubplot at 0x123261190>"
      ]
     },
     "execution_count": 7,
     "metadata": {},
     "output_type": "execute_result"
    },
    {
     "data": {
      "image/png": "[encoded data removed]",
      "text/plain": [
       "<Figure size 432x288 with 2 Axes>"
      ]
     },
     "metadata": {
      "needs_background": "light"
     },
     "output_type": "display_data"
    }
   ],
   "source": [
    "corr = np.corrcoef(encoded_df.to_numpy().T)\n",
    "sns.heatmap(corr)"
   ]
  },
  {
   "cell_type": "code",
   "execution_count": 5,
   "metadata": {},
   "outputs": [],
   "source": [
    "# continuous variables; categorical rankable features are [3]\n",
    "cont_col = [0,2,4,10,11,12]\n",
    "# unrankable columns\n",
    "unrankable = [1,5,6,7,8,9,13]\n",
    "discrete_col = [1,3,5,6,7,8,9,13]\n",
    "discrete_feature_val = {k:encoded_df['X'+str(k)].nunique() for k in discrete_col}"
   ]
  },
  {
   "cell_type": "code",
   "execution_count": 73,
   "metadata": {},
   "outputs": [],
   "source": [
    "train_size = 0.7\n",
    "test_size = 1-train_size\n",
    "X = encoded_df[colnames[:-1]].to_numpy()\n",
    "Y = encoded_df[colnames[-1]].to_numpy()\n",
    "x_train, x_test, y_train, y_test = train_test_split(X, Y, test_size = test_size, random_state = random_state)"
   ]
  },
  {
   "cell_type": "code",
   "execution_count": 54,
   "metadata": {},
   "outputs": [
    {
     "data": {
      "text/plain": [
       "{0: 0.9511139952411853, 1: 0.29322813938198555}"
      ]
     },
     "execution_count": 54,
     "metadata": {},
     "output_type": "execute_result"
    }
   ],
   "source": [
    "from sklearn.naive_bayes import GaussianNB\n",
    "from sklearn.metrics import accuracy_score\n",
    "clf_nb = GaussianNB()\n",
    "clf_nb.fit(x_train,y_train)\n",
    "nb_predict = clf_nb.predict(x_test)\n",
    "utils.classwise_accuracy(y_test,nb_predict)"
   ]
  },
  {
   "cell_type": "code",
   "execution_count": 64,
   "metadata": {},
   "outputs": [
    {
     "data": {
      "text/plain": [
       "<matplotlib.legend.Legend at 0x125f3e690>"
      ]
     },
     "execution_count": 64,
     "metadata": {},
     "output_type": "execute_result"
    },
    {
     "data": {
      "image/png": "[encoded data removed]",
      "text/plain": [
       "<Figure size 432x288 with 1 Axes>"
      ]
     },
     "metadata": {
      "needs_background": "light"
     },
     "output_type": "display_data"
    }
   ],
   "source": [
    "from sklearn.metrics import roc_curve, roc_auc_score\n",
    "from matplotlib import pyplot\n",
    "probs = clf_nb.predict_proba(x_test)\n",
    "probs = probs[:, 1]\n",
    "auc = roc_auc_score(y_test, probs)\n",
    "fpr, tpr, _ = roc_curve(y_test, probs)\n",
    "pyplot.plot(fpr, tpr, marker='.', label='nb_classifier')\n",
    "pyplot.xlabel('False Positive Rate')\n",
    "pyplot.ylabel('True Positive Rate')\n",
    "pyplot.legend()"
   ]
  },
  {
   "cell_type": "code",
   "execution_count": 74,
   "metadata": {},
   "outputs": [
    {
     "data": {
      "text/plain": [
       "{0: 0.8463642908567315, 1: 0.7525319242624394}"
      ]
     },
     "execution_count": 74,
     "metadata": {},
     "output_type": "execute_result"
    }
   ],
   "source": [
    "clf_c_como = cm.clustered_comonotonic(x_train,y_train,discrete_feature_val,cont_col,unrankable,0.9)\n",
    "clf_c_como.run_cluster()\n",
    "c_como_predict = clf_c_como.cluster_predict(x_test)\n",
    "utils.classwise_accuracy(y_test,c_como_predict)"
   ]
  },
  {
   "cell_type": "code",
   "execution_count": 57,
   "metadata": {},
   "outputs": [
    {
     "data": {
      "text/plain": [
       "0.7975792933113355"
      ]
     },
     "execution_count": 57,
     "metadata": {},
     "output_type": "execute_result"
    }
   ],
   "source": [
    "from sklearn.metrics import roc_auc_score\n",
    "roc_auc_score(y_test, c_como_predict)"
   ]
  },
  {
   "cell_type": "code",
   "execution_count": 56,
   "metadata": {},
   "outputs": [
    {
     "data": {
      "text/plain": [
       "0.6787221217600966"
      ]
     },
     "execution_count": 56,
     "metadata": {},
     "output_type": "execute_result"
    }
   ],
   "source": [
    "from sklearn.metrics import f1_score\n",
    "f1_score(y_test, c_como_predict)"
   ]
  },
  {
   "cell_type": "code",
   "execution_count": 9,
   "metadata": {},
   "outputs": [
    {
     "data": {
      "text/plain": [
       "0.7509360247436107"
      ]
     },
     "execution_count": 9,
     "metadata": {},
     "output_type": "execute_result"
    }
   ],
   "source": [
    "clf_p_como = cm.pure_comonotonic(x_train,y_train,discrete_feature_val,cont_col,unrankable)\n",
    "clf_p_como.run()\n",
    "p_como_predict = clf_p_como.predict(x_test)\n",
    "utils.get_accuracy(p_como_predict,y_test)"
   ]
  },
  {
   "cell_type": "code",
   "execution_count": 10,
   "metadata": {},
   "outputs": [
    {
     "data": {
      "text/plain": [
       "(3, 14)"
      ]
     },
     "execution_count": 10,
     "metadata": {},
     "output_type": "execute_result"
    }
   ],
   "source": [
    "x_train.shape"
   ]
  },
  {
   "cell_type": "code",
   "execution_count": 17,
   "metadata": {},
   "outputs": [
    {
     "name": "stdout",
     "output_type": "stream",
     "text": [
      "              precision    recall  f1-score   support\n",
      "\n",
      "           0       0.80      0.95      0.87      2304\n",
      "           1       0.67      0.30      0.41       768\n",
      "\n",
      "    accuracy                           0.79      3072\n",
      "   macro avg       0.73      0.62      0.64      3072\n",
      "weighted avg       0.77      0.79      0.76      3072\n",
      "\n"
     ]
    }
   ],
   "source": [
    "from sklearn.metrics import classification_report\n",
    "print(classification_report(y_test, nb_predict))"
   ]
  },
  {
   "cell_type": "code",
   "execution_count": 25,
   "metadata": {},
   "outputs": [
    {
     "name": "stdout",
     "output_type": "stream",
     "text": [
      "              precision    recall  f1-score   support\n",
      "\n",
      "           0       0.75      1.00      0.86     23065\n",
      "           1       0.00      0.00      0.00      7650\n",
      "\n",
      "    accuracy                           0.75     30715\n",
      "   macro avg       0.38      0.50      0.43     30715\n",
      "weighted avg       0.56      0.75      0.64     30715\n",
      "\n"
     ]
    }
   ],
   "source": [
    "print(classification_report(y_test, c_como_predict))"
   ]
  },
  {
   "cell_type": "code",
   "execution_count": 13,
   "metadata": {},
   "outputs": [
    {
     "name": "stdout",
     "output_type": "stream",
     "text": [
      "              precision    recall  f1-score   support\n",
      "\n",
      "           0       0.75      1.00      0.86     23065\n",
      "           1       0.00      0.00      0.00      7650\n",
      "\n",
      "    accuracy                           0.75     30715\n",
      "   macro avg       0.38      0.50      0.43     30715\n",
      "weighted avg       0.56      0.75      0.64     30715\n",
      "\n"
     ]
    }
   ],
   "source": [
    "print(classification_report(y_test, p_como_predict))"
   ]
  }
 ],
 "metadata": {
  "kernelspec": {
   "display_name": "Python 3.7.4 64-bit ('anaconda3': conda)",
   "language": "python",
   "name": "python37464bitanaconda3conda0e45134502714cc5a53ed61e6b150427"
  },
  "language_info": {
   "codemirror_mode": {
    "name": "ipython",
    "version": 3
   },
   "file_extension": ".py",
   "mimetype": "text/x-python",
   "name": "python",
   "nbconvert_exporter": "python",
   "pygments_lexer": "ipython3",
   "version": "3.7.4"
  }
 },
 "nbformat": 4,
 "nbformat_minor": 2
}
