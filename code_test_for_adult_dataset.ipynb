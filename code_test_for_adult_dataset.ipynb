{
 "cells": [
  {
   "cell_type": "code",
   "execution_count": 1,
   "metadata": {},
   "outputs": [],
   "source": [
    "import numpy as np\n",
    "import pandas as pd\n",
    "import comonotonic as cm\n",
    "import naiveBayes as nb\n",
    "import os\n",
    "from sklearn.model_selection import train_test_split\n",
    "import copy\n",
    "import utils\n",
    "import matplotlib.pyplot as plt\n",
    "import seaborn as sns"
   ]
  },
  {
   "cell_type": "code",
   "execution_count": 2,
   "metadata": {},
   "outputs": [],
   "source": [
    "# Note that we assume the last column is the label\n",
    "# If the first column is ID's, remove it\n",
    "filename = \"adult.csv\"\n",
    "random_state = 24\n",
    "df = pd.read_csv(\"Datasets/\"+filename)\n",
    "# education and education.num is actually the same, so drop \"education\"\n",
    "colnames = [('X'+str(i)) for i in range(df.shape[1]-1)]\n",
    "colnames.append('Y')\n",
    "df.columns = colnames"
   ]
  },
  {
   "cell_type": "code",
   "execution_count": 3,
   "metadata": {},
   "outputs": [],
   "source": [
    "colname_dict = {'X0':\"age\", 'X1': 'workclass', 'X2': 'fnlwgt', 'X3': 'education', 'X4': 'education.num', 'X5': 'marital.status',\n",
    "                'X6': 'occupation', 'X7': 'relationship', 'X8': 'race', 'X9': 'sex', 'X10': 'capital.gain', 'X11': 'capital.loss', \n",
    "                'X12': 'hours.per.week', 'X13': 'native.country', 'Y': 'income'}"
   ]
  },
  {
   "cell_type": "code",
   "execution_count": 4,
   "metadata": {},
   "outputs": [],
   "source": [
    "#data cleaning for adult.csv\n",
    "df = df[df.X1 != '?']\n",
    "df = df[df.X6 != '?']\n",
    "# unrankable features\n",
    "encoded_df = utils.encode_df(df, [1,5,6,7,8,9,13])\n",
    "\n",
    "\n",
    "encoded_df.loc[(encoded_df.Y == \"<=50K\"),'Y'] = 0\n",
    "encoded_df.loc[(encoded_df.Y == \">50K\"),'Y'] = 1\n",
    "\n",
    "encoded_df.loc[(encoded_df.X4 <= 9),'X3'] = 0\n",
    "encoded_df.loc[(encoded_df.X4 == 10),'X3'] = 1\n",
    "encoded_df.loc[(encoded_df.X4 == 11),'X3'] = 2\n",
    "encoded_df.loc[(encoded_df.X4 == 12),'X3'] = 2\n",
    "encoded_df.loc[(encoded_df.X4 >= 13),'X3'] = 3\n",
    "\n",
    "encoded_df = encoded_df.astype('int32')"
   ]
  },
  {
   "cell_type": "code",
   "execution_count": 5,
   "metadata": {},
   "outputs": [
    {
     "data": {
      "text/plain": [
       "{1: 7, 3: 4, 5: 7, 6: 14, 7: 6, 8: 5, 9: 2, 13: 42}"
      ]
     },
     "execution_count": 5,
     "metadata": {},
     "output_type": "execute_result"
    }
   ],
   "source": [
    "# continuous variables; categorical rankable features are [3]\n",
    "cont_col = [0,2,4,10,11,12]\n",
    "# unrankable columns\n",
    "unrankable = [1,5,6,7,8,9,13]\n",
    "discrete_col = [1,3,5,6,7,8,9,13]\n",
    "discrete_feature_val = {k:encoded_df['X'+str(k)].nunique() for k in discrete_col}"
   ]
  },
  {
   "cell_type": "code",
   "execution_count": 6,
   "metadata": {},
   "outputs": [
    {
     "data": {
      "image/png": "[encoded data removed]",
      "text/plain": [
       "<Figure size 432x288 with 2 Axes>"
      ]
     },
     "metadata": {
      "needs_background": "light"
     },
     "output_type": "display_data"
    }
   ],
   "source": [
    "# make sure whether it is proper to construct some columns by yourself\n",
    "\n",
    "test_df = encoded_df.copy()\n",
    "test_df = test_df.drop(['Y'], axis = 1)\n",
    "# test_df['X13'] = test_df.apply(lambda row: 0.2*row.X2+0.5*row.X9-row.X10, axis = 1)\n",
    "# test_df['X14'] = test_df.apply(lambda row: 1.4*row.X9+3.8*row.X10, axis = 1)\n",
    "X = test_df.to_numpy()\n",
    "\n",
    "corr = np.corrcoef(X.T)\n",
    "ax = sns.heatmap(corr)\n"
   ]
  },
  {
   "cell_type": "code",
   "execution_count": 7,
   "metadata": {},
   "outputs": [],
   "source": [
    "# clustered comonotonic\n",
    "clus_X = encoded_df[colnames[:-1]].to_numpy()\n",
    "clus_Y = encoded_df[colnames[-1]].to_numpy()\n",
    "clus_X_train, clus_X_test, clus_Y_train, clus_Y_test = train_test_split(clus_X, clus_Y, test_size = 0.2,\n",
    "                                                                        random_state = random_state)\n",
    "\n",
    "clf = cm.clustered_comonotonic(clus_X_train, clus_Y_train, discrete_feature_val, cont_col, unrankable, 0.7, random_state)\n",
    "clf.run_cluster()\n"
   ]
  },
  {
   "cell_type": "code",
   "execution_count": 13,
   "metadata": {},
   "outputs": [
    {
     "data": {
      "text/plain": [
       "0.7828776041666666"
      ]
     },
     "execution_count": 13,
     "metadata": {},
     "output_type": "execute_result"
    }
   ],
   "source": [
    "clus_y_predict = clf.cluster_predict(clus_X_test)\n",
    "utils.get_accuracy(clus_Y_test, clus_y_predict)\n"
   ]
  },
  {
   "cell_type": "code",
   "execution_count": 9,
   "metadata": {},
   "outputs": [],
   "source": [
    "# comparation with Naive Bayes\n",
    "# use the original data for Naive Bayes\n",
    "original_X = encoded_df[colnames[:-1]].to_numpy()\n",
    "original_Y = encoded_df[colnames[-1]].to_numpy()\n",
    "original_X_train, original_X_test, original_Y_train, original_Y_test = train_test_split(original_X, original_Y, test_size=0.2, \n",
    "                                                                                        random_state=random_state)"
   ]
  },
  {
   "cell_type": "code",
   "execution_count": 10,
   "metadata": {},
   "outputs": [
    {
     "data": {
      "text/plain": [
       "0.8299153645833334"
      ]
     },
     "execution_count": 10,
     "metadata": {},
     "output_type": "execute_result"
    }
   ],
   "source": [
    "# implementation of NB from scratch\n",
    "nb_classifier = nb.naive_bayes(original_X_train, original_Y_train, cont_col)\n",
    "nb_classifier.run()\n",
    "nb_y_predict = nb_classifier.predict(original_X_test)\n",
    "utils.get_accuracy(nb_y_predict, original_Y_test)"
   ]
  },
  {
   "cell_type": "code",
   "execution_count": 19,
   "metadata": {},
   "outputs": [
    {
     "name": "stdout",
     "output_type": "stream",
     "text": [
      "0.8211263020833334\n"
     ]
    }
   ],
   "source": [
    "# weighted average of naive bayes and cluster comonotonic\n",
    "weighted_predict_y = []\n",
    "for i in range(len(clus_X_test)):\n",
    "    prob_dist_cluster_como = clf.get_cluster_prob_dist_single(clus_X_test[i])\n",
    "    predicted_class, prob_dist_nb = nb_classifier.predict_single(original_X_test[i])\n",
    "    weighted_predict_y.append(utils.weighted_avg(prob_dist_nb, prob_dist_cluster_como, 2))\n",
    "#     print(prob_dist_cluster_como)\n",
    "#     print(prob_dist_nb)\n",
    "#     print(\"------\")\n",
    "print(utils.get_accuracy(weighted_predict_y, clus_Y_test))"
   ]
  },
  {
   "cell_type": "code",
   "execution_count": 21,
   "metadata": {},
   "outputs": [],
   "source": [
    "import operator\n",
    "both_correct = 0\n",
    "both_wrong = 0\n",
    "nb_correct = 0\n",
    "clus_correct = 0\n",
    "for i in range(len(clus_X_test)):\n",
    "    prob_dist_cluster_como = clf.get_cluster_prob_dist_single(clus_X_test[i])\n",
    "    nb_result, prob_dist_nb = nb_classifier.predict_single(original_X_test[i])\n",
    "    clus_result = max(prob_dist_cluster_como.items(), key=operator.itemgetter(1))[0]\n",
    "    if str(clus_result) == str(nb_result) == str(clus_Y_test[i]):\n",
    "        both_correct += 1\n",
    "    elif (str(clus_result) == str(nb_result)) and (str(nb_result) != str(clus_Y_test[i])):\n",
    "        both_wrong += 1\n",
    "    elif (str(clus_result) != str(nb_result)) and (str(nb_result) == str(clus_Y_test[i])):\n",
    "        nb_correct += 1\n",
    "    elif (str(clus_result) != str(nb_result)) and (str(clus_result) == str(clus_Y_test[i])):\n",
    "        clus_correct += 1"
   ]
  },
  {
   "cell_type": "code",
   "execution_count": 22,
   "metadata": {},
   "outputs": [
    {
     "name": "stdout",
     "output_type": "stream",
     "text": [
      "Both Correct: 0.734375\n",
      "Both Wrong: 0.12158203125\n",
      "nb Correct: 0.09554036458333333\n",
      "clus Correct: 0.048502604166666664\n"
     ]
    }
   ],
   "source": [
    "print(\"Both Correct: \" + str(both_correct/len(clus_X_test)))\n",
    "print(\"Both Wrong: \" + str(both_wrong/len(clus_X_test)))\n",
    "print(\"nb Correct: \" + str(nb_correct/len(clus_X_test)))\n",
    "print(\"clus Correct: \" + str(clus_correct/len(clus_X_test)))"
   ]
  }
 ],
 "metadata": {
  "kernelspec": {
   "display_name": "Python 3.7.4 64-bit ('anaconda3': conda)",
   "language": "python",
   "name": "python37464bitanaconda3conda0e45134502714cc5a53ed61e6b150427"
  },
  "language_info": {
   "codemirror_mode": {
    "name": "ipython",
    "version": 3
   },
   "file_extension": ".py",
   "mimetype": "text/x-python",
   "name": "python",
   "nbconvert_exporter": "python",
   "pygments_lexer": "ipython3",
   "version": "3.7.4"
  }
 },
 "nbformat": 4,
 "nbformat_minor": 2
}
