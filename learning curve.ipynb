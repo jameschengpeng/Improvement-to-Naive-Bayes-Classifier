{
 "cells": [
  {
   "cell_type": "code",
   "execution_count": 1,
   "metadata": {},
   "outputs": [],
   "source": [
    "import comonotonic as cm\n",
    "import utils\n",
    "import numpy as np\n",
    "import pandas as pd\n",
    "import matplotlib.pyplot as plt\n",
    "import h5py"
   ]
  },
  {
   "cell_type": "code",
   "execution_count": 2,
   "metadata": {},
   "outputs": [],
   "source": [
    "MNIST_data = h5py.File('MNISTdata.hdf5', 'r')\n",
    "original_xtrain = np.float32(MNIST_data['x_train'][:])\n",
    "original_ytrain = np.int32(np.array(MNIST_data['y_train'][:,0]))\n",
    "original_xtest = np.float32(MNIST_data['x_test'][:])\n",
    "original_ytest = np.int32(np.array( MNIST_data['y_test'][:,0]))\n",
    "MNIST_data.close()\n",
    "X = np.concatenate((original_xtrain, original_xtest), axis = 0)\n",
    "Y = np.concatenate((original_ytrain, original_ytest), axis = 0)"
   ]
  },
  {
   "cell_type": "code",
   "execution_count": 3,
   "metadata": {},
   "outputs": [],
   "source": [
    "from sklearn.model_selection import train_test_split\n",
    "training_proportion = [.1,.2,.3,.4,.5,.6,.7,.8,.9]"
   ]
  },
  {
   "cell_type": "code",
   "execution_count": 7,
   "metadata": {},
   "outputs": [],
   "source": [
    "train_proportion = 0.5"
   ]
  },
  {
   "cell_type": "code",
   "execution_count": 8,
   "metadata": {},
   "outputs": [],
   "source": [
    "x_train,x_test,y_train,y_test = train_test_split(X, Y, test_size = 1-train_proportion, random_state=42)"
   ]
  },
  {
   "cell_type": "code",
   "execution_count": 9,
   "metadata": {},
   "outputs": [
    {
     "data": {
      "text/plain": [
       "{0: 0.8983540282991626,\n",
       " 1: 0.944996180290298,\n",
       " 2: 0.2928977272727273,\n",
       " 3: 0.34215713883413124,\n",
       " 4: 0.1419141914191419,\n",
       " 5: 0.028307888040712468,\n",
       " 6: 0.9441260744985673,\n",
       " 7: 0.2807961269499731,\n",
       " 8: 0.5774521531100478,\n",
       " 9: 0.9518518518518518}"
      ]
     },
     "execution_count": 9,
     "metadata": {},
     "output_type": "execute_result"
    }
   ],
   "source": [
    "from sklearn.naive_bayes import GaussianNB\n",
    "clf_nb = GaussianNB()\n",
    "clf_nb.fit(x_train,y_train)\n",
    "nb_predict = clf_nb.predict(x_test)\n",
    "utils.classwise_accuracy(y_test,nb_predict)"
   ]
  },
  {
   "cell_type": "code",
   "execution_count": 10,
   "metadata": {},
   "outputs": [
    {
     "name": "stderr",
     "output_type": "stream",
     "text": [
      "/Users/pengcheng/opt/anaconda3/lib/python3.7/site-packages/numpy/lib/function_base.py:2534: RuntimeWarning: divide by zero encountered in true_divide\n",
      "  c /= stddev[:, None]\n",
      "/Users/pengcheng/opt/anaconda3/lib/python3.7/site-packages/numpy/lib/function_base.py:2534: RuntimeWarning: invalid value encountered in true_divide\n",
      "  c /= stddev[:, None]\n",
      "/Users/pengcheng/opt/anaconda3/lib/python3.7/site-packages/numpy/lib/function_base.py:2535: RuntimeWarning: divide by zero encountered in true_divide\n",
      "  c /= stddev[None, :]\n",
      "/Users/pengcheng/opt/anaconda3/lib/python3.7/site-packages/numpy/lib/function_base.py:2535: RuntimeWarning: invalid value encountered in true_divide\n",
      "  c /= stddev[None, :]\n"
     ]
    },
    {
     "data": {
      "text/plain": [
       "{0: 0.8787178746751372,\n",
       " 1: 0.956200662083015,\n",
       " 2: 0.8289772727272727,\n",
       " 3: 0.8070965925091523,\n",
       " 4: 0.8088808880888089,\n",
       " 5: 0.7293256997455471,\n",
       " 6: 0.9120343839541547,\n",
       " 7: 0.8450779989241528,\n",
       " 8: 0.7631578947368421,\n",
       " 9: 0.8301994301994302}"
      ]
     },
     "execution_count": 10,
     "metadata": {},
     "output_type": "execute_result"
    }
   ],
   "source": [
    "cont_col = [i for i in range(784)]\n",
    "clf_c_como = cm.clustered_comonotonic(x_train,y_train,None,cont_col,None,0.9)\n",
    "clf_c_como.run_cluster()\n",
    "c_como_predict = clf_c_como.cluster_predict(x_test)\n",
    "utils.classwise_accuracy(y_test,c_como_predict)"
   ]
  },
  {
   "cell_type": "code",
   "execution_count": 13,
   "metadata": {},
   "outputs": [
    {
     "data": {
      "text/plain": [
       "0.8366802289869538"
      ]
     },
     "execution_count": 13,
     "metadata": {},
     "output_type": "execute_result"
    }
   ],
   "source": [
    "from sklearn.metrics import f1_score\n",
    "f1_score(y_test,c_como_predict,average='macro')"
   ]
  }
 ],
 "metadata": {
  "kernelspec": {
   "display_name": "Python 3.7.4 64-bit ('anaconda3': conda)",
   "language": "python",
   "name": "python37464bitanaconda3conda0e45134502714cc5a53ed61e6b150427"
  },
  "language_info": {
   "codemirror_mode": {
    "name": "ipython",
    "version": 3
   },
   "file_extension": ".py",
   "mimetype": "text/x-python",
   "name": "python",
   "nbconvert_exporter": "python",
   "pygments_lexer": "ipython3",
   "version": "3.7.4"
  }
 },
 "nbformat": 4,
 "nbformat_minor": 2
}
