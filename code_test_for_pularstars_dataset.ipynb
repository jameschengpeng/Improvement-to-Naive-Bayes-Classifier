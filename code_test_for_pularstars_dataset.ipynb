{
 "cells": [
  {
   "cell_type": "code",
   "execution_count": 1,
   "metadata": {},
   "outputs": [],
   "source": [
    "import numpy as np\n",
    "import pandas as pd\n",
    "import GaussianCopula as gc\n",
    "import os\n",
    "from sklearn.model_selection import train_test_split\n",
    "import copy\n",
    "import utils\n",
    "import matplotlib.pyplot as plt\n",
    "import operator"
   ]
  },
  {
   "cell_type": "code",
   "execution_count": 2,
   "metadata": {},
   "outputs": [],
   "source": [
    "# Note that we assume the last column is the label\n",
    "# If the first column is ID's, remove it\n",
    "filename = \"pulsar_stars.csv\"\n",
    "df = pd.read_csv(\"Datasets/\"+filename)\n",
    "colnames = [('X'+str(i)) for i in range(df.shape[1]-1)]\n",
    "colnames.append('Y')\n",
    "cont_col = [i for i in range(8)]\n",
    "df.columns = colnames"
   ]
  },
  {
   "cell_type": "code",
   "execution_count": 3,
   "metadata": {},
   "outputs": [],
   "source": [
    "X = df.loc[:5000,colnames[:-1]].to_numpy()\n",
    "Y = df.loc[:5000,colnames[-1]].to_numpy()\n",
    "x_train, x_test, y_train, y_test = train_test_split(X, Y, test_size=0.2, random_state=42)\n",
    "cont_col = [0,1,2,3,4,5,6,7]"
   ]
  },
  {
   "cell_type": "code",
   "execution_count": 4,
   "metadata": {},
   "outputs": [
    {
     "name": "stdout",
     "output_type": "stream",
     "text": [
      "Finished clustering\n",
      "Optimized bandwidth\n"
     ]
    },
    {
     "name": "stderr",
     "output_type": "stream",
     "text": [
      "/Users/pengcheng/Desktop/FYP/Improvement-to-Naive-Bayes-Classifier/utils.py:160: RuntimeWarning: invalid value encountered in matmul\n",
      "  b = np.matmul(vec, mid_mat)\n",
      "/Users/pengcheng/Desktop/FYP/Improvement-to-Naive-Bayes-Classifier/utils.py:161: RuntimeWarning: invalid value encountered in matmul\n",
      "  c = np.matmul(b, vec.T)\n"
     ]
    },
    {
     "data": {
      "text/plain": [
       "0.8502793296089386"
      ]
     },
     "execution_count": 4,
     "metadata": {},
     "output_type": "execute_result"
    }
   ],
   "source": [
    "# copula classifier\n",
    "clf = gc.CopulaClassifier(cont_col, None, None, 0.9)\n",
    "clf.fit(x_train,y_train)\n",
    "prob_distribution = clf.test_prob_dist(x_test)\n",
    "prediction = {i: max(prob_distribution[i].items(), key=operator.itemgetter(1))[0] for i in prob_distribution.keys()}\n",
    "utils.get_accuracy(prediction, y_test)"
   ]
  },
  {
   "cell_type": "code",
   "execution_count": 19,
   "metadata": {},
   "outputs": [
    {
     "data": {
      "text/plain": [
       "0.9440559440559441"
      ]
     },
     "execution_count": 19,
     "metadata": {},
     "output_type": "execute_result"
    }
   ],
   "source": [
    "# Gaussian Naive Bayes\n",
    "from sklearn.naive_bayes import GaussianNB\n",
    "clf2 = GaussianNB()\n",
    "clf2.fit(x_train,y_train)\n",
    "nb_predict = clf2.predict(x_test)\n",
    "utils.get_accuracy(nb_predict,y_test)"
   ]
  },
  {
   "cell_type": "code",
   "execution_count": 4,
   "metadata": {},
   "outputs": [
    {
     "data": {
      "text/plain": [
       "0.954045954045954"
      ]
     },
     "execution_count": 4,
     "metadata": {},
     "output_type": "execute_result"
    }
   ],
   "source": [
    "# Clustered comonotonic\n",
    "import comonotonic as cm\n",
    "clf3 = cm.clustered_comonotonic(x_train,y_train,None,cont_col,None,0.8)\n",
    "clf3.run_cluster()\n",
    "cm_predict = clf3.cluster_predict(x_test)\n",
    "utils.get_accuracy(cm_predict, y_test)"
   ]
  },
  {
   "cell_type": "code",
   "execution_count": 5,
   "metadata": {},
   "outputs": [
    {
     "data": {
      "text/plain": [
       "0.7932067932067932"
      ]
     },
     "execution_count": 5,
     "metadata": {},
     "output_type": "execute_result"
    }
   ],
   "source": [
    "clf4 = cm.pure_comonotonic(x_train,y_train,None,cont_col,None)\n",
    "clf4.run()\n",
    "clf4_predict = clf4.predict(x_test)\n",
    "utils.get_accuracy(clf4_predict,y_test)"
   ]
  },
  {
   "cell_type": "code",
   "execution_count": 10,
   "metadata": {},
   "outputs": [
    {
     "data": {
      "text/plain": [
       "{0: array([ 24.54951721,  52.55398283,  80.55844844, 108.56291406,\n",
       "        136.56737968, 164.5718453 , 192.57631092]),\n",
       " 1: array([24.28685748, 31.58394379, 38.8810301 , 46.17811642, 53.47520273,\n",
       "        60.77228904, 68.06937535]),\n",
       " 2: array([-3.08545657, -1.85910806, -0.63275954,  0.59358897,  1.81993748,\n",
       "         3.04628599,  4.2726345 ]),\n",
       " 3: array([-19.35324725, -12.11114156,  -4.86903587,   2.37306982,\n",
       "          9.61517551,  16.8572812 ,  24.0993869 ]),\n",
       " 4: array([-68.39150405, -41.77388133, -15.1562586 ,  11.46136413,\n",
       "         38.07898686,  64.69660959,  91.31423231]),\n",
       " 5: array([-27.42397712,  -9.54442759,   8.33512195,  26.21467148,\n",
       "         44.09422102,  61.97377056,  79.85332009]),\n",
       " 6: array([-4.75286594, -0.47339311,  3.80607972,  8.08555254, 12.36502537,\n",
       "        16.6444982 , 20.92397103]),\n",
       " 7: array([-200.06773594, -100.63709875,   -1.20646156,   98.22417563,\n",
       "         197.65481282,  297.08545002,  396.51608721])}"
      ]
     },
     "execution_count": 10,
     "metadata": {},
     "output_type": "execute_result"
    }
   ],
   "source": [
    "clf4.bin_info"
   ]
  },
  {
   "cell_type": "code",
   "execution_count": 13,
   "metadata": {},
   "outputs": [],
   "source": [
    "checker = gc.CopulaClassifier(cont_col, None, None, 0.9, use_default_bandwidth=False)"
   ]
  },
  {
   "cell_type": "code",
   "execution_count": 14,
   "metadata": {},
   "outputs": [],
   "source": [
    "checker.x_train = x_train\n",
    "checker.classes = np.sort(np.unique(y_train)).astype(int)\n",
    "checker.divided_train_set = [x_train[y_train == yi] for yi in checker.classes] # divide the training set by classes\n",
    "checker.prior_prob = {checker.classes[i]:np.log(checker.divided_train_set[i].shape[0]/x_train.shape[0]) for i in range(len(checker.classes))}\n",
    "checker.rankable = [i for i in range(len(checker.x_train[0]))]"
   ]
  },
  {
   "cell_type": "code",
   "execution_count": 15,
   "metadata": {},
   "outputs": [
    {
     "name": "stdout",
     "output_type": "stream",
     "text": [
      "Start to find opt bandwidth for class, feature0,0\n",
      "Found opt bandwidth for class, feature0,0\n",
      "Start to find opt bandwidth for class, feature0,1\n",
      "Found opt bandwidth for class, feature0,1\n",
      "Start to find opt bandwidth for class, feature0,2\n",
      "Found opt bandwidth for class, feature0,2\n",
      "Start to find opt bandwidth for class, feature0,3\n",
      "Found opt bandwidth for class, feature0,3\n",
      "Start to find opt bandwidth for class, feature0,4\n",
      "Found opt bandwidth for class, feature0,4\n",
      "Start to find opt bandwidth for class, feature0,5\n",
      "Found opt bandwidth for class, feature0,5\n",
      "Start to find opt bandwidth for class, feature0,6\n",
      "Found opt bandwidth for class, feature0,6\n",
      "Start to find opt bandwidth for class, feature0,7\n",
      "Found opt bandwidth for class, feature0,7\n",
      "Start to find opt bandwidth for class, feature1,0\n",
      "Found opt bandwidth for class, feature1,0\n",
      "Start to find opt bandwidth for class, feature1,1\n",
      "Found opt bandwidth for class, feature1,1\n",
      "Start to find opt bandwidth for class, feature1,2\n",
      "Found opt bandwidth for class, feature1,2\n",
      "Start to find opt bandwidth for class, feature1,3\n",
      "Found opt bandwidth for class, feature1,3\n",
      "Start to find opt bandwidth for class, feature1,4\n",
      "Found opt bandwidth for class, feature1,4\n",
      "Start to find opt bandwidth for class, feature1,5\n",
      "Found opt bandwidth for class, feature1,5\n",
      "Start to find opt bandwidth for class, feature1,6\n",
      "Found opt bandwidth for class, feature1,6\n",
      "Start to find opt bandwidth for class, feature1,7\n",
      "Found opt bandwidth for class, feature1,7\n"
     ]
    },
    {
     "data": {
      "text/plain": [
       "<GaussianCopula.CopulaClassifier at 0x1a1c323f10>"
      ]
     },
     "execution_count": 15,
     "metadata": {},
     "output_type": "execute_result"
    }
   ],
   "source": [
    "checker.optimize_bandwidth()"
   ]
  },
  {
   "cell_type": "code",
   "execution_count": 16,
   "metadata": {},
   "outputs": [
    {
     "name": "stdout",
     "output_type": "stream",
     "text": [
      "Finished clustering\n"
     ]
    }
   ],
   "source": [
    "if checker.feature_val != None:\n",
    "    checker.get_discrete_posterior()\n",
    "    print(\"Got discrete posterior\")\n",
    "checker.clustering()\n",
    "print(\"Finished clustering\")"
   ]
  },
  {
   "cell_type": "code",
   "execution_count": 17,
   "metadata": {},
   "outputs": [
    {
     "name": "stderr",
     "output_type": "stream",
     "text": [
      "/Users/pengcheng/Desktop/FYP/Improvement-to-Naive-Bayes-Classifier/utils.py:160: RuntimeWarning: invalid value encountered in matmul\n",
      "  b = np.matmul(vec, mid_mat)\n",
      "/Users/pengcheng/Desktop/FYP/Improvement-to-Naive-Bayes-Classifier/utils.py:161: RuntimeWarning: invalid value encountered in matmul\n",
      "  c = np.matmul(b, vec.T)\n",
      "/Users/pengcheng/Desktop/FYP/Improvement-to-Naive-Bayes-Classifier/GaussianCopula.py:127: RuntimeWarning: divide by zero encountered in log\n",
      "  density = sum(marginal_density) + np.log(utils.copula_func(marginal_cdf, R))\n"
     ]
    },
    {
     "data": {
      "text/plain": [
       "0.8251748251748252"
      ]
     },
     "execution_count": 17,
     "metadata": {},
     "output_type": "execute_result"
    }
   ],
   "source": [
    "prob_distribution = checker.test_prob_dist(x_test)\n",
    "prediction = {i: max(prob_distribution[i].items(), key=operator.itemgetter(1))[0] for i in prob_distribution.keys()}\n",
    "utils.get_accuracy(prediction, y_test)"
   ]
  },
  {
   "cell_type": "code",
   "execution_count": null,
   "metadata": {},
   "outputs": [],
   "source": []
  }
 ],
 "metadata": {
  "kernelspec": {
   "display_name": "Python 3.7.4 64-bit ('anaconda3': conda)",
   "language": "python",
   "name": "python37464bitanaconda3conda0e45134502714cc5a53ed61e6b150427"
  },
  "language_info": {
   "codemirror_mode": {
    "name": "ipython",
    "version": 3
   },
   "file_extension": ".py",
   "mimetype": "text/x-python",
   "name": "python",
   "nbconvert_exporter": "python",
   "pygments_lexer": "ipython3",
   "version": "3.7.4"
  }
 },
 "nbformat": 4,
 "nbformat_minor": 2
}
