{
 "cells": [
  {
   "cell_type": "code",
   "execution_count": 1,
   "metadata": {},
   "outputs": [],
   "source": [
    "import numpy as np\n",
    "import pandas as pd\n",
    "import comonotonic as cm\n",
    "import utils\n",
    "from utils import df_split_discretize\n",
    "from utils import check_accuracy\n",
    "import copy\n",
    "import matplotlib.pyplot as plt\n",
    "from sklearn.model_selection import train_test_split\n",
    "import math"
   ]
  },
  {
   "cell_type": "code",
   "execution_count": 2,
   "metadata": {},
   "outputs": [],
   "source": [
    "df = pd.read_csv(\"Datasets/adult.csv\")\n",
    "random_state = 42\n",
    "colnames = [('X'+str(i)) for i in range(df.shape[1]-1)]\n",
    "colnames.append('Y')\n",
    "df.columns = colnames"
   ]
  },
  {
   "cell_type": "code",
   "execution_count": 3,
   "metadata": {},
   "outputs": [],
   "source": [
    "#data cleaning for adult.csv\n",
    "df = df[df.X1 != '?']\n",
    "df = df[df.X6 != '?']\n",
    "# unrankable features\n",
    "encoded_df = utils.encode_df(df, [1,5,6,7,8,9,13])\n",
    "\n",
    "encoded_df.loc[(encoded_df.Y == \"<=50K\"),'Y'] = 0\n",
    "encoded_df.loc[(encoded_df.Y == \">50K\"),'Y'] = 1\n",
    "\n",
    "encoded_df.loc[(encoded_df.X4 <= 9),'X3'] = 0\n",
    "encoded_df.loc[(encoded_df.X4 == 10),'X3'] = 1\n",
    "encoded_df.loc[(encoded_df.X4 == 11),'X3'] = 2\n",
    "encoded_df.loc[(encoded_df.X4 == 12),'X3'] = 2\n",
    "encoded_df.loc[(encoded_df.X4 >= 13),'X3'] = 3\n",
    "\n",
    "encoded_df = encoded_df.astype('int32')"
   ]
  },
  {
   "cell_type": "code",
   "execution_count": 4,
   "metadata": {},
   "outputs": [],
   "source": [
    "cont_col = [0,2,4,10,11,12]\n",
    "unrankable = [1,5,6,7,8,9,13]\n",
    "discrete_col = [1,3,5,6,7,8,9,13]\n",
    "discrete_feature_val = {k:encoded_df['X'+str(k)].nunique() for k in discrete_col}\n",
    "possible_categories = [i for i in range(2,11)]\n",
    "allocation_book = {i: np.random.choice(possible_categories) for i in cont_col}"
   ]
  },
  {
   "cell_type": "code",
   "execution_count": 5,
   "metadata": {},
   "outputs": [],
   "source": [
    "max_itr = 100\n",
    "temp = 100\n",
    "anneal_schedule = 10\n",
    "qcut = True\n",
    "overall_acc_hist = []\n",
    "classwise_acc_hist = []"
   ]
  },
  {
   "cell_type": "code",
   "execution_count": 7,
   "metadata": {},
   "outputs": [],
   "source": [
    "for itr in range(max_itr):\n",
    "    if (itr+1) % anneal_schedule == 0:\n",
    "        temp /= 10\n",
    "    if itr == 0:\n",
    "        x_train,x_test,y_train,y_test = df_split_discretize(encoded_df,random_state,qcut,allocation_book)\n",
    "        classwise_acc, overall_acc = check_accuracy(x_train,x_test,y_train,y_test,discrete_feature_val,cont_col,unrankable)\n",
    "        overall_acc_hist.append(overall_acc)\n",
    "        classwise_acc_hist.append(classwise_acc)\n",
    "    else:\n",
    "        chosen_idx = np.random.choice(cont_col)\n",
    "        chosen_category = np.random.choice(possible_categories)\n",
    "        proposal = allocation_book.copy()\n",
    "        proposal[chosen_idx] = chosen_category\n",
    "        x_train,x_test,y_train,y_test = df_split_discretize(encoded_df,random_state,qcut,proposal)\n",
    "        propose_class_acc, propose_overall_acc = check_accuracy(x_train,x_test,y_train,y_test,discrete_feature_val,cont_col,unrankable)\n",
    "        prev_acc = overall_acc_hist[-1]\n",
    "        if propose_overall_acc > prev_acc:\n",
    "            allocation_book = proposal.copy()\n",
    "            overall_acc_hist.append(propose_overall_acc)\n",
    "            classwise_acc_hist.append(propose_class_acc)            \n",
    "        else:\n",
    "            transition_prob = math.exp((propose_overall_acc - prev_acc)/temp)\n",
    "            determinant = np.random.uniform(0,1)\n",
    "            if determinant <= transition_prob:\n",
    "                allocation_book = proposal.copy()\n",
    "                overall_acc_hist.append(propose_overall_acc)\n",
    "                classwise_acc_hist.append(propose_class_acc)\n",
    "            else:\n",
    "                overall_acc_hist.append(overall_acc_hist[-1])\n",
    "                classwise_acc_hist.append(classwise_acc_hist[-1])"
   ]
  },
  {
   "cell_type": "code",
   "execution_count": 8,
   "metadata": {},
   "outputs": [
    {
     "data": {
      "text/plain": [
       "[<matplotlib.lines.Line2D at 0x11fc58c10>]"
      ]
     },
     "execution_count": 8,
     "metadata": {},
     "output_type": "execute_result"
    },
    {
     "data": {
      "image/png": "[encoded data removed]",
      "text/plain": [
       "<Figure size 432x288 with 1 Axes>"
      ]
     },
     "metadata": {
      "needs_background": "light"
     },
     "output_type": "display_data"
    }
   ],
   "source": [
    "plt.plot(overall_acc_hist)"
   ]
  }
 ],
 "metadata": {
  "kernelspec": {
   "display_name": "Python 3.7.4 64-bit ('anaconda3': conda)",
   "language": "python",
   "name": "python37464bitanaconda3conda0e45134502714cc5a53ed61e6b150427"
  },
  "language_info": {
   "codemirror_mode": {
    "name": "ipython",
    "version": 3
   },
   "file_extension": ".py",
   "mimetype": "text/x-python",
   "name": "python",
   "nbconvert_exporter": "python",
   "pygments_lexer": "ipython3",
   "version": "3.7.4"
  }
 },
 "nbformat": 4,
 "nbformat_minor": 2
}
